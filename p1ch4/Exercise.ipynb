{
 "cells": [
  {
   "cell_type": "code",
   "execution_count": 7,
   "id": "339c8af6",
   "metadata": {},
   "outputs": [],
   "source": [
    "import numpy as np\n",
    "import torch\n",
    "torch.set_printoptions(edgeitems=2, threshold=50)"
   ]
  },
  {
   "cell_type": "markdown",
   "id": "6990bda8",
   "metadata": {},
   "source": [
    "1 Take several pictures of red, blue, and green items with your phone or other dig\n",
    "ital camera (or download some from the internet, if a camera isn’t available).\n",
    " b For each image tensor, use the .mean() method to get a sense of how bright\n",
    " the image is.\n",
    " c Take the mean of each channel of your images. Can you identify the red,\n",
    " green, and blue items from only the channel averages?"
   ]
  },
  {
   "cell_type": "markdown",
   "id": "77015040",
   "metadata": {},
   "source": [
    "a) Load each image, and convert it to a tensor."
   ]
  },
  {
   "cell_type": "code",
   "execution_count": 8,
   "id": "6f888277",
   "metadata": {},
   "outputs": [
    {
     "name": "stderr",
     "output_type": "stream",
     "text": [
      "/tmp/ipykernel_12080/2611607549.py:3: DeprecationWarning: Starting with ImageIO v3 the behavior of this function will switch to that of iio.v3.imread. To keep the current behavior (and make this warning disappear) use `import imageio.v2 as imageio` or call `imageio.v2.imread` directly.\n",
      "  img_arr_red = imageio.imread('../data/p1ch4/exercise/red.webp')\n",
      "/tmp/ipykernel_12080/2611607549.py:4: DeprecationWarning: Starting with ImageIO v3 the behavior of this function will switch to that of iio.v3.imread. To keep the current behavior (and make this warning disappear) use `import imageio.v2 as imageio` or call `imageio.v2.imread` directly.\n",
      "  img_arr_green = imageio.imread('../data/p1ch4/exercise/green.webp')\n",
      "/tmp/ipykernel_12080/2611607549.py:5: DeprecationWarning: Starting with ImageIO v3 the behavior of this function will switch to that of iio.v3.imread. To keep the current behavior (and make this warning disappear) use `import imageio.v2 as imageio` or call `imageio.v2.imread` directly.\n",
      "  img_arr_blue = imageio.imread('../data/p1ch4/exercise/blue.webp')\n"
     ]
    },
    {
     "data": {
      "text/plain": [
       "((1024, 1024, 3), (1024, 1024, 3), (1024, 1024, 3))"
      ]
     },
     "execution_count": 8,
     "metadata": {},
     "output_type": "execute_result"
    }
   ],
   "source": [
    "import imageio\n",
    "\n",
    "img_arr_red = imageio.imread('../data/p1ch4/exercise/red.webp')\n",
    "img_arr_green = imageio.imread('../data/p1ch4/exercise/green.webp')\n",
    "img_arr_blue = imageio.imread('../data/p1ch4/exercise/blue.webp')\n",
    "\n",
    "img_arr_red.shape, img_arr_green.shape, img_arr_blue.shape"
   ]
  },
  {
   "cell_type": "code",
   "execution_count": 9,
   "id": "67c236de",
   "metadata": {},
   "outputs": [
    {
     "data": {
      "text/plain": [
       "(torch.Size([3, 1024, 1024]),\n",
       " torch.Size([3, 1024, 1024]),\n",
       " torch.Size([3, 1024, 1024]))"
      ]
     },
     "execution_count": 9,
     "metadata": {},
     "output_type": "execute_result"
    }
   ],
   "source": [
    "img_red = torch.from_numpy(img_arr_red)\n",
    "img_green = torch.from_numpy(img_arr_green)\n",
    "img_blue = torch.from_numpy(img_arr_blue)\n",
    "\n",
    "out_red = img_red.permute(2, 0, 1)\n",
    "out_green = img_green.permute(2, 0, 1)\n",
    "out_blue = img_blue.permute(2, 0, 1)\n",
    "\n",
    "out_red.shape, out_green.shape, out_blue.shape"
   ]
  },
  {
   "cell_type": "code",
   "execution_count": 11,
   "id": "ecfc3827",
   "metadata": {},
   "outputs": [
    {
     "data": {
      "text/plain": [
       "(tensor(102.8912), tensor(123.3021), tensor(96.9155))"
      ]
     },
     "execution_count": 11,
     "metadata": {},
     "output_type": "execute_result"
    }
   ],
   "source": [
    "torch.mean(out_red.float()), torch.mean(out_green.float()), torch.mean(out_blue.float())"
   ]
  },
  {
   "cell_type": "code",
   "execution_count": 15,
   "id": "e9963b9d",
   "metadata": {},
   "outputs": [
    {
     "name": "stdout",
     "output_type": "stream",
     "text": [
      "tensor(123.9853) tensor(97.8323) tensor(86.8561)\n",
      "tensor(134.3786) tensor(134.3667) tensor(101.1611)\n",
      "tensor(109.9194) tensor(96.9030) tensor(83.9242)\n"
     ]
    }
   ],
   "source": [
    "imgs = torch.stack([out_red, out_green, out_blue])\n",
    "for img in imgs:\n",
    "    print(torch.mean(img[0].float()), torch.mean(img[1].float()), torch.mean(img[2].float()))"
   ]
  },
  {
   "cell_type": "code",
   "execution_count": null,
   "id": "961a4337",
   "metadata": {},
   "outputs": [],
   "source": []
  }
 ],
 "metadata": {
  "kernelspec": {
   "display_name": "Python 3",
   "language": "python",
   "name": "python3"
  },
  "language_info": {
   "codemirror_mode": {
    "name": "ipython",
    "version": 3
   },
   "file_extension": ".py",
   "mimetype": "text/x-python",
   "name": "python",
   "nbconvert_exporter": "python",
   "pygments_lexer": "ipython3",
   "version": "3.12.1"
  }
 },
 "nbformat": 4,
 "nbformat_minor": 5
}
